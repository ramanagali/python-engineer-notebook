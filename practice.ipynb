{
 "cells": [
  {
   "cell_type": "code",
   "execution_count": 6,
   "metadata": {},
   "outputs": [
    {
     "name": "stdout",
     "output_type": "stream",
     "text": [
      "False Case\n"
     ]
    }
   ],
   "source": [
    "if None or 0 or 0.0 or '' or [] or {} or set():\n",
    "    print('Dead Case')\n",
    "else:\n",
    "    print('False Case')"
   ]
  },
  {
   "cell_type": "code",
   "execution_count": 2,
   "metadata": {},
   "outputs": [
    {
     "name": "stdout",
     "output_type": "stream",
     "text": [
      "5\n",
      "1\n",
      "6\n",
      "1.5\n",
      "1\n",
      "1\n",
      "-3\n",
      "3\n",
      "3\n",
      "3.0\n",
      "9\n"
     ]
    }
   ],
   "source": [
    "x, y = 3, 2\n",
    "print(x + y) # = 5\n",
    "print(x - y) # = 1\n",
    "print(x * y) # = 6\n",
    "print(x / y) # = 1.5\n",
    "print(x // y) # = 1\n",
    "print(x % y) # = 1\n",
    "print(-x) # = -3\n",
    "print(abs(-x)) # = 3\n",
    "print(int(3.9)) # = 3\n",
    "print(float(3)) # = 3.0\n",
    "print(x ** y) # = 9"
   ]
  },
  {
   "cell_type": "code",
   "execution_count": 27,
   "metadata": {},
   "outputs": [
    {
     "name": "stdout",
     "output_type": "stream",
     "text": [
      "T\n",
      "he\n",
      "ol\n",
      "old\n",
      "['The', 'youngest', 'pope', 'was', '11', 'years', 'old']\n",
      "11 old popes\n"
     ]
    }
   ],
   "source": [
    "s = \"The youngest pope was 11 years old\"\n",
    "print(s[0]) # 'T'\n",
    "print(s[1:3]) # 'he'\n",
    "print(s[-3:-1]) # 'ol'\n",
    "print(s[-3:]) # 'old'\n",
    "x = s.split() # creates string array of words\n",
    "print(x)\n",
    "print(x[-3] + \" \" + x[-1] + \" \" + x[2] + \"s\")"
   ]
  },
  {
   "cell_type": "code",
   "execution_count": 28,
   "metadata": {},
   "outputs": [
    {
     "name": "stdout",
     "output_type": "stream",
     "text": [
      "This is lazy\n",
      "drdre\n",
      "ATTENTION\n",
      "True\n",
      "True\n",
      "2\n",
      "meat\n",
      "F,B,I\n",
      "15\n",
      "True\n"
     ]
    }
   ],
   "source": [
    "y = \" This is lazy\\t\\n \"\n",
    "print(y.strip()) # Remove Whitespace: 'This is lazy'\n",
    "print(\"DrDre\".lower()) # Lowercase: 'drdre'\n",
    "print(\"attention\".upper()) # Uppercase: 'ATTENTION'\n",
    "print(\"smartphone\".startswith(\"smart\")) # True\n",
    "print(\"smartphone\".endswith(\"phone\")) # True\n",
    "print(\"another\".find(\"other\")) # Match index: 2\n",
    "print(\"cheat\".replace(\"ch\", \"m\")) # 'meat'\n",
    "print(','.join([\"F\", \"B\", \"I\"])) # 'F,B,I'\n",
    "print(len(\"Rumpelstiltskin\")) # String length: 15\n",
    "print(\"ear\" in \"earth\") # Contains: True"
   ]
  },
  {
   "cell_type": "code",
   "execution_count": 68,
   "metadata": {},
   "outputs": [
    {
     "name": "stdout",
     "output_type": "stream",
     "text": [
      "[1, 2, 2, 4]\n",
      "4\n",
      "[1, 2, 2, 4, 5]\n",
      "[1, 2, 2, 4, 5, 6]\n",
      "[1, 2, 2, 4, 5]\n"
     ]
    }
   ],
   "source": [
    "l = [1, 2, 2]\n",
    "l.append(4) # [1, 2, 2, 4]\n",
    "print(l)\n",
    "print(len(l)) # 3\n",
    "\n",
    "l.insert(len(l), 5 )\n",
    "print(l)\n",
    "\n",
    "l.append(6)\n",
    "print(l)\n",
    "l.pop()\n",
    "print(l)\n",
    "\n",
    "l.pop\n"
   ]
  },
  {
   "cell_type": "code",
   "execution_count": 76,
   "metadata": {},
   "outputs": [
    {
     "name": "stdout",
     "output_type": "stream",
     "text": [
      "{'orange', 'banana', 'eggs', 'apple'}\n"
     ]
    }
   ],
   "source": [
    "basket = {'apple', 'eggs', 'banana', 'orange'}\n",
    "basket.add('apple')\n",
    "print(basket)"
   ]
  },
  {
   "cell_type": "code",
   "execution_count": 92,
   "metadata": {},
   "outputs": [
    {
     "name": "stdout",
     "output_type": "stream",
     "text": [
      "['Hi Alice', 'Hi Bob', 'Hi Pete']\n",
      "[0, 0, 2]\n"
     ]
    }
   ],
   "source": [
    "l = [('Hi ' + x) for x in ['Alice', 'Bob', 'Pete']]\n",
    "print(l) # ['Hi Alice', 'Hi Bob', 'Hi Pete']\n",
    "\n",
    "l2 = [xy for x in range(3) for y in range(3) if x>y]\n",
    "print(l2) # [0, 0, 2]"
   ]
  }
 ],
 "metadata": {
  "interpreter": {
   "hash": "31f2aee4e71d21fbe5cf8b01ff0e069b9275f58929596ceb00d14d90e3e16cd6"
  },
  "kernelspec": {
   "display_name": "Python 3.8.9 64-bit",
   "language": "python",
   "name": "python3"
  },
  "language_info": {
   "codemirror_mode": {
    "name": "ipython",
    "version": 3
   },
   "file_extension": ".py",
   "mimetype": "text/x-python",
   "name": "python",
   "nbconvert_exporter": "python",
   "pygments_lexer": "ipython3",
   "version": "3.8.9"
  },
  "orig_nbformat": 4
 },
 "nbformat": 4,
 "nbformat_minor": 2
}
