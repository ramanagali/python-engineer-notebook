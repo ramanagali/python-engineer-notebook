{
 "cells": [
  {
   "cell_type": "markdown",
   "metadata": {},
   "source": [
    "## NumPy Crash Course\n",
    "Learn NumPy in this complete Crash Course! I show you all the essential functions of NumPy and some tricks and useful methods. [NumPy](https://numpy.org/) is the core library for scientific computing in Python. It is essential for any **data science** or **machine learning** algorithms.\n",
    "#### Outline\n",
    "\n",
    "1. NumPy Introduction\n",
    "2. Installation and Basics\n",
    "3. Array vs List\n",
    "4. Dot Product\n",
    "5. Speed Test array vs list\n",
    "6. Multidimensional (nd) arrays\n",
    "7. Indexing/Slicing/Boolean Indexing\n",
    "8. Reshaping\n",
    "9. Concatenation\n",
    "10. Broadcasting\n",
    "11. Functions and Axis\n",
    "12. Datatypes\n",
    "13. Copying\n",
    "14. Generating arrays\n",
    "15. Random numbers\n",
    "16. Linear Algebra (Eigenvalues / Solving Linear Systems)\n",
    "17. Loading CSV files\n",
    "\n",
    "#### Installation\n",
    "Installation with *pip* or *Anaconda*.\n",
    "```console\n",
    "$ pip install numpy\n",
    "or\n",
    "$ conda install numpy\n",
    "```"
   ]
  },
  {
   "cell_type": "code",
   "execution_count": 22,
   "metadata": {},
   "outputs": [],
   "source": [
    "import numpy as np"
   ]
  },
  {
   "cell_type": "code",
   "execution_count": 23,
   "metadata": {},
   "outputs": [
    {
     "data": {
      "text/plain": [
       "'1.19.1'"
      ]
     },
     "execution_count": 23,
     "metadata": {},
     "output_type": "execute_result"
    }
   ],
   "source": [
    "np.__version__"
   ]
  },
  {
   "cell_type": "markdown",
   "metadata": {},
   "source": [
    "numpy is the core library in all scientifig packages. the central object in the numpy library is the numpy array.\n",
    "numpy = library for linear algebra and probability"
   ]
  },
  {
   "cell_type": "markdown",
   "metadata": {},
   "source": [
    "scalar\n",
    "vector\n",
    "matrix\n",
    "\n",
    "use cases:\n",
    "- dot product/inner product\n",
    "- matrix multiplication (shape must match)\n",
    "- element wise matrix product\n",
    "- linear systems\n",
    "- inverse\n",
    "- determinant\n",
    "- choose random numbers (e.g. gaussian/uniform)\n",
    "- working with images represented as array\n",
    "\n",
    "Applications:\n",
    "\n",
    "- Machine Learning\n",
    "- Deep Learning\n",
    "- scikit-learn\n",
    "- Matplotlib\n",
    "- Pandas"
   ]
  },
  {
   "cell_type": "code",
   "execution_count": 24,
   "metadata": {},
   "outputs": [
    {
     "name": "stdout",
     "output_type": "stream",
     "text": [
      "[1 2 3 4 5]\n",
      "(5,)\n",
      "int64\n",
      "1\n",
      "5\n",
      "8\n"
     ]
    }
   ],
   "source": [
    "# array\n",
    "a = np.array([1,2,3,4,5])\n",
    "print(a)\n",
    "print(a.shape) # shape of the array\n",
    "print(a.dtype) # type of the elements\n",
    "\n",
    "print(a.ndim)\n",
    "print(a.size) # total number of elements\n",
    "print(a.itemsize) # the size in bytes of each element"
   ]
  },
  {
   "cell_type": "code",
   "execution_count": 25,
   "metadata": {},
   "outputs": [
    {
     "name": "stdout",
     "output_type": "stream",
     "text": [
      "1\n",
      "[5 2 3]\n",
      "[10  0  6]\n",
      "10\n"
     ]
    }
   ],
   "source": [
    "# essential methods\n",
    "a = np.array([1,2,3])\n",
    "# access and change elements\n",
    "print(a[0])\n",
    "a[0] = 5\n",
    "print(a)\n",
    "\n",
    "# elementwise math operations\n",
    "b = a * np.array([2,0,2])\n",
    "print(b)\n",
    "\n",
    "print(a.sum())"
   ]
  },
  {
   "cell_type": "code",
   "execution_count": 26,
   "metadata": {},
   "outputs": [
    {
     "name": "stdout",
     "output_type": "stream",
     "text": [
      "[1, 2, 3]\n",
      "[1 2 3]\n",
      "[1, 2, 3, 4, 5]\n",
      "[5 6 7]\n",
      "[5 7 9]\n",
      "[1, 2, 3, 4, 1, 2, 3, 4]\n",
      "[2 4 6]\n",
      "[1, 4, 9, 16]\n",
      "[1, 4, 9, 16]\n",
      "[1 4 9]\n",
      "[1.         1.41421356 1.73205081]\n",
      "[0.         0.69314718 1.09861229]\n"
     ]
    }
   ],
   "source": [
    "# array vs list\n",
    "l = [1,2,3]\n",
    "a = np.array([1,2,3])\n",
    "print(l)\n",
    "print(a)\n",
    "\n",
    "# adding new item\n",
    "l.append(4)\n",
    "#a.append(4) error: size of array is fixed\n",
    "\n",
    "# there are ways to add items, but this essentially creates new arrays\n",
    "l2 = l + [5]\n",
    "print(l2)\n",
    "\n",
    "a2 = a + np.array([4])\n",
    "print(a2) # this is called broadcasting, adds 4 to each element\n",
    "\n",
    "# vector addidion (this is technically correct compared to broadcasting)\n",
    "a3 = a + np.array([4,5,6])\n",
    "print(a3)\n",
    "\n",
    "#a3 = a + np.array([4,5]) # error, can't add vectors of different sizes\n",
    "\n",
    "# multiplication\n",
    "l2 = 2 * l # list l repeated 2 times, same a l+l\n",
    "print(l2)\n",
    "a3 = 2 * a # multiplication for each element\n",
    "print(a3)\n",
    "\n",
    "# modify each item in the list\n",
    "l2 = []\n",
    "for i in l:\n",
    "    l2.append(i**2)\n",
    "print(l2)\n",
    "# or list comp\n",
    "l2 = [i**2 for i in l]\n",
    "print(l2)\n",
    "\n",
    "a2 = a**2 # -> squares each element!\n",
    "print(a2)\n",
    "\n",
    "# Note: function applied to array usually operates element wise\n",
    "a2 = np.sqrt(a) # np.exp(a), np.tanh(a)\n",
    "print(a2)\n",
    "a2 = np.log(a)\n",
    "print(a2)\n",
    "\n",
    "# Note: np array exists specifically to do math"
   ]
  },
  {
   "cell_type": "code",
   "execution_count": 27,
   "metadata": {},
   "outputs": [
    {
     "name": "stdout",
     "output_type": "stream",
     "text": [
      "11\n",
      "11\n",
      "[3 8]\n",
      "11\n",
      "11\n",
      "11\n",
      "11\n"
     ]
    }
   ],
   "source": [
    "# dot product/inner product\n",
    "a = np.array([1,2])\n",
    "b = np.array([3,4])\n",
    "\n",
    "# sum of the products of the corresponding entries \n",
    "# multiply each corresponding elements and then take the sum\n",
    "\n",
    "# cumbersome way for lists\n",
    "dot = 0\n",
    "for i in range(len(a)):\n",
    "    dot += a[i] * b[i]\n",
    "print(dot)\n",
    "\n",
    "# easy with numpy :)\n",
    "dot = np.dot(a,b)\n",
    "print(dot)\n",
    "\n",
    "# step by step manually\n",
    "c = a * b\n",
    "print(c)\n",
    "d = np.sum(c)\n",
    "print(d)\n",
    "\n",
    "# most of these functions are also instance methods\n",
    "dot = a.dot(b)\n",
    "print(dot)\n",
    "dot = (a*b).sum()\n",
    "print(dot)\n",
    "\n",
    "# in newer versions\n",
    "dot = a @ b\n",
    "print(dot)"
   ]
  },
  {
   "cell_type": "code",
   "execution_count": 28,
   "metadata": {},
   "outputs": [
    {
     "name": "stdout",
     "output_type": "stream",
     "text": [
      "Time with lists: 0.4455872780001755\n",
      "Time with array: 0.0055540859998473024\n",
      "Ratio 80.22693167020208\n"
     ]
    }
   ],
   "source": [
    "# speed test lists vs array\n",
    "from timeit import default_timer as timer\n",
    "\n",
    "a = np.random.randn(1000)\n",
    "b = np.random.randn(1000)\n",
    "\n",
    "A = list(a)\n",
    "B = list(b)\n",
    "\n",
    "T = 1000\n",
    "\n",
    "def dot1():\n",
    "    dot = 0\n",
    "    for i in range(len(A)):\n",
    "        dot += A[i]*B[i]\n",
    "    return dot\n",
    "\n",
    "def dot2():\n",
    "    return np.dot(a,b)\n",
    "\n",
    "start = timer()\n",
    "for t in range(T):\n",
    "    dot1()\n",
    "end = timer()\n",
    "t1 = end-start\n",
    "\n",
    "start = timer()\n",
    "for t in range(T):\n",
    "    dot2()\n",
    "end = timer()\n",
    "t2 = end-start\n",
    "\n",
    "print('Time with lists:', t1)\n",
    "print('Time with array:', t2)\n",
    "print('Ratio', t1/t2)"
   ]
  },
  {
   "cell_type": "code",
   "execution_count": 29,
   "metadata": {},
   "outputs": [
    {
     "name": "stdout",
     "output_type": "stream",
     "text": [
      "[[1 2]\n",
      " [3 4]]\n",
      "(2, 2)\n",
      "[1 2]\n",
      "1\n",
      "1\n",
      "[1 3]\n",
      "[1 2]\n",
      "[[1 3]\n",
      " [2 4]]\n",
      "[[13 16]\n",
      " [29 36]]\n",
      "[[ 3  8]\n",
      " [15 24]]\n",
      "-2.0000000000000004\n",
      "[[-2.   1. ]\n",
      " [ 1.5 -0.5]]\n",
      "[1 4]\n",
      "[[1 0]\n",
      " [0 4]]\n"
     ]
    }
   ],
   "source": [
    "# nd arrays = multidimensional arrays\n",
    "# (matrix class exists but not recommended to use)\n",
    "a = np.array([[1,2], [3,4]])\n",
    "print(a)\n",
    "print(a.shape)\n",
    "\n",
    "# row first, then columns\n",
    "print(a[0])\n",
    "print(a[0][0])\n",
    "print(a[0,0])\n",
    "\n",
    "# slicing\n",
    "print(a[:,0]) # all rows in col 0\n",
    "print(a[0,:]) # all columns in row 0\n",
    "\n",
    "# transpose\n",
    "print(a.T)\n",
    "\n",
    "# matrix multiplication\n",
    "b = np.array([[3, 4], [5,6]])\n",
    "c = a.dot(b)\n",
    "print(c)\n",
    "d = a * b # elementwise multiplication\n",
    "print(d)\n",
    "\n",
    "# inner dimensions must match!\n",
    "b = np.array([[1,2,3], [4,5,6]])\n",
    "#c = a.dot(b.T)\n",
    "#print(c)\n",
    "\n",
    "# determinant\n",
    "c = np.linalg.det(a)\n",
    "print(c)\n",
    "\n",
    "# inverse\n",
    "c = np.linalg.inv(a)\n",
    "print(c)\n",
    "\n",
    "# diag\n",
    "c = np.diag(a)\n",
    "print(c)\n",
    "\n",
    "# diag on a vector returns diagonal matrix (overloaded function)\n",
    "c = np.diag([1,4])\n",
    "print(c)"
   ]
  },
  {
   "cell_type": "code",
   "execution_count": 30,
   "metadata": {},
   "outputs": [
    {
     "name": "stdout",
     "output_type": "stream",
     "text": [
      "[[ 1  2  3  4]\n",
      " [ 5  6  7  8]\n",
      " [ 9 10 11 12]]\n",
      "2\n",
      "[1 2 3 4]\n",
      "[1 5 9]\n",
      "[[2 3]\n",
      " [6 7]]\n",
      "12\n"
     ]
    }
   ],
   "source": [
    "# Array indexing\n",
    "# Slicing: Similar to Python lists, numpy arrays can be sliced.\n",
    "# Since arrays may be multidimensional, you must specify a slice for each \n",
    "# dimension of the array:\n",
    "a = np.array([[1,2,3,4], [5,6,7,8], [9,10,11,12]])\n",
    "print(a)\n",
    "\n",
    "# Integer array indexing\n",
    "b = a[0,1]\n",
    "print(b)\n",
    "\n",
    "# Slicing\n",
    "row0 = a[0,:]\n",
    "print(row0)\n",
    "\n",
    "col0 = a[:, 0]\n",
    "print(col0)\n",
    "\n",
    "slice_a = a[0:2,1:3]\n",
    "print(slice_a)\n",
    "\n",
    "# indexing starting from the end: -1, -2 etc...\n",
    "last = a[-1,-1]\n",
    "print(last)"
   ]
  },
  {
   "cell_type": "code",
   "execution_count": 31,
   "metadata": {},
   "outputs": [
    {
     "name": "stdout",
     "output_type": "stream",
     "text": [
      "[[1 2]\n",
      " [3 4]\n",
      " [5 6]]\n",
      "[[False False]\n",
      " [ True  True]\n",
      " [ True  True]]\n",
      "[3 4 5 6]\n",
      "[3 4 5 6]\n",
      "[[-1 -1]\n",
      " [ 3  4]\n",
      " [ 5  6]]\n",
      "[10 19 30 41 50 61]\n",
      "[19 41 61]\n",
      "[0 2 4]\n",
      "[10 30 50]\n"
     ]
    }
   ],
   "source": [
    "# Boolean indexing:\n",
    "a = np.array([[1,2], [3, 4], [5, 6]])\n",
    "print(a)\n",
    "\n",
    "# same shape with True or False for the condition\n",
    "bool_idx = a > 2\n",
    "print(bool_idx)\n",
    "\n",
    "# note: this will be a rank 1 array!\n",
    "print(a[bool_idx])\n",
    "\n",
    "# We can do all of the above in a single concise statement:\n",
    "print(a[a > 2])\n",
    "\n",
    "# np.where(): same size with modified values\n",
    "b = np.where(a>2, a, -1)\n",
    "print(b)\n",
    "\n",
    "# fancy indexing: access multiple indices at once\n",
    "a = np.array([10,19,30,41,50,61])\n",
    "print(a)\n",
    "b = a[[1,3,5]]\n",
    "print(b)\n",
    "even = np.argwhere(a%2==0).flatten()\n",
    "print(even)\n",
    "a_even = a[even]\n",
    "print(a_even)"
   ]
  },
  {
   "cell_type": "code",
   "execution_count": 32,
   "metadata": {},
   "outputs": [
    {
     "name": "stdout",
     "output_type": "stream",
     "text": [
      "[1 2 3 4 5 6]\n",
      "[[1 2 3]\n",
      " [4 5 6]]\n",
      "[[1 2]\n",
      " [3 4]\n",
      " [5 6]]\n",
      "(6,)\n",
      "[[1 2 3 4 5 6]]\n",
      "(1, 6)\n",
      "[[1]\n",
      " [2]\n",
      " [3]\n",
      " [4]\n",
      " [5]\n",
      " [6]]\n",
      "(6, 1)\n"
     ]
    }
   ],
   "source": [
    "# reshape\n",
    "a = np.arange(1, 7)\n",
    "print(a)\n",
    "\n",
    "b = a.reshape((2, 3)) # error if shape cannot be used\n",
    "print(b)\n",
    "\n",
    "c = a.reshape((3, 2)) # 3 rows, 2 columns\n",
    "print(c)\n",
    "\n",
    "# newaxis is used to create a new axis in the data\n",
    "# needed when model require the data to be shaped in a certain manner\n",
    "print(a.shape)\n",
    "d = a[np.newaxis, :]\n",
    "print(d)\n",
    "print(d.shape)\n",
    "\n",
    "e = a[:, np.newaxis]\n",
    "print(e)\n",
    "print(e.shape)"
   ]
  },
  {
   "cell_type": "code",
   "execution_count": 33,
   "metadata": {},
   "outputs": [
    {
     "name": "stdout",
     "output_type": "stream",
     "text": [
      "[[1 2]\n",
      " [3 4]]\n",
      "[[5 6]]\n",
      "[1 2 3 4 5 6]\n",
      "[[1 2]\n",
      " [3 4]\n",
      " [5 6]]\n",
      "[[1 2 5]\n",
      " [3 4 6]]\n",
      "[1 2 3 4 5 6 7 8]\n",
      "[[1 2 5 6]\n",
      " [3 4 7 8]]\n",
      "[[1 2 3 4]\n",
      " [5 6 7 8]]\n",
      "[[1 2]\n",
      " [3 4]\n",
      " [5 6]\n",
      " [7 8]]\n"
     ]
    }
   ],
   "source": [
    "# concatenation\n",
    "a = np.array([[1, 2], [3, 4]])\n",
    "print(a)\n",
    "b = np.array([[5, 6]])\n",
    "print(b)\n",
    "c = np.concatenate((a, b), axis=None)\n",
    "print(c)\n",
    "d = np.concatenate((a, b), axis=0)\n",
    "print(d)\n",
    "e = np.concatenate((a, b.T), axis=1)\n",
    "print(e)\n",
    "\n",
    "# hstack: Stack arrays in sequence horizontally (column wise). needs a tuple\n",
    "a = np.array([1,2,3,4])\n",
    "b = np.array([5,6,7,8])\n",
    "c = np.hstack((a,b))\n",
    "print(c)\n",
    "a = np.array([[1,2], [3,4]])\n",
    "b = np.array([[5,6], [7,8]])\n",
    "c = np.hstack((a,b))\n",
    "print(c)\n",
    "\n",
    "# vstack: Stack arrays in sequence vertically (row wise). needs a tuple\n",
    "a = np.array([1,2,3,4])\n",
    "b = np.array([5,6,7,8])\n",
    "c = np.vstack((a,b))\n",
    "print(c)\n",
    "a = np.array([[1,2], [3,4]])\n",
    "b = np.array([[5,6], [7,8]])\n",
    "c = np.vstack((a,b))\n",
    "print(c)"
   ]
  },
  {
   "cell_type": "code",
   "execution_count": 34,
   "metadata": {},
   "outputs": [
    {
     "name": "stdout",
     "output_type": "stream",
     "text": [
      "[[ 2  2  4]\n",
      " [ 5  5  7]\n",
      " [ 8  8 10]\n",
      " [11 11 13]]\n"
     ]
    }
   ],
   "source": [
    "# broadcasting\n",
    "# Broadcasting is a powerful mechanism that allows numpy to work with arrays of \n",
    "# different shapes when performing arithmetic operations.\n",
    "x = np.array([[1,2,3], [4,5,6], [7,8,9], [10, 11, 12]])\n",
    "v = np.array([1, 0, 1])\n",
    "y = x + v  # Add v to each row of x using broadcasting\n",
    "print(y) "
   ]
  },
  {
   "cell_type": "code",
   "execution_count": 35,
   "metadata": {},
   "outputs": [
    {
     "name": "stdout",
     "output_type": "stream",
     "text": [
      "[[ 7  8  9 10 11 12 13]\n",
      " [17 18 19 20 21 22 23]]\n",
      "210\n",
      "210\n",
      "[24 26 28 30 32 34 36]\n",
      "[ 70 140]\n",
      "15.0\n",
      "15.0\n",
      "[12. 13. 14. 15. 16. 17. 18.]\n",
      "[10. 20.]\n"
     ]
    }
   ],
   "source": [
    "# data science functions and axes\n",
    "a = np.array([[7,8,9,10,11,12,13], [17,18,19,20,21,22,23]])\n",
    "print(a)\n",
    "print(a.sum(axis=None)) # overall sum\n",
    "print(a.sum())\n",
    "print(a.sum(axis=0)) # along the rows -> 1 sum entry for each column\n",
    "print(a.sum(axis=1)) # along the columns -> 1 sum entry for each row\n",
    "\n",
    "print(a.mean(axis=None)) # overall mean\n",
    "print(a.mean())\n",
    "print(a.mean(axis=0)) # along the rows -> 1 mean entry for each column\n",
    "print(a.mean(axis=1)) # along the columns -> 1 mean entry for each row\n",
    "\n",
    "# some more: std, var, min, max"
   ]
  },
  {
   "cell_type": "code",
   "execution_count": 36,
   "metadata": {},
   "outputs": [
    {
     "name": "stdout",
     "output_type": "stream",
     "text": [
      "int64\n",
      "float64\n",
      "int64\n",
      "float32\n"
     ]
    }
   ],
   "source": [
    "# datatypes\n",
    "# https://numpy.org/devdocs/user/basics.types.html\n",
    "# Let numpy choose the datatype\n",
    "x = np.array([1, 2])\n",
    "print(x.dtype)\n",
    "\n",
    "# Let numpy choose the datatype\n",
    "x = np.array([1.0, 2.0])\n",
    "print(x.dtype)\n",
    "\n",
    "# Force a particular datatype, how many bits (how precise)\n",
    "x = np.array([1, 2], dtype=np.int64) # 8 bytes\n",
    "print(x.dtype)\n",
    "\n",
    "x = np.array([1, 2], dtype=np.float32) # 4 bytes\n",
    "print(x.dtype)"
   ]
  },
  {
   "cell_type": "code",
   "execution_count": 37,
   "metadata": {},
   "outputs": [
    {
     "name": "stdout",
     "output_type": "stream",
     "text": [
      "[42  2  3]\n",
      "[1 2 3]\n"
     ]
    }
   ],
   "source": [
    "# copy\n",
    "a = np.array([1,2,3])\n",
    "b = a # only copies reference!\n",
    "b[0] = 42\n",
    "print(a)\n",
    "\n",
    "a = np.array([1,2,3])\n",
    "b = a.copy() # actual copy!\n",
    "b[0] = 42\n",
    "print(a)"
   ]
  },
  {
   "cell_type": "code",
   "execution_count": 38,
   "metadata": {},
   "outputs": [
    {
     "name": "stdout",
     "output_type": "stream",
     "text": [
      "[[0. 0. 0.]\n",
      " [0. 0. 0.]]\n",
      "[[1. 1. 1.]\n",
      " [1. 1. 1.]]\n",
      "[[5. 5. 5.]\n",
      " [5. 5. 5.]\n",
      " [5. 5. 5.]]\n",
      "[[5. 5. 5.]\n",
      " [5. 5. 5.]\n",
      " [5. 5. 5.]]\n",
      "[[1. 0. 0.]\n",
      " [0. 1. 0.]\n",
      " [0. 0. 1.]]\n",
      "[0 1 2 3 4 5 6 7 8 9]\n",
      "[ 0.   2.5  5.   7.5 10. ]\n"
     ]
    }
   ],
   "source": [
    "# generating data\n",
    "a = np.zeros((2,3)) # size as tuple\n",
    "b = np.ones((2,3))\n",
    "print(a)\n",
    "print(b)\n",
    "# specific value\n",
    "c = 5 * np.ones((3,3))\n",
    "print(c)\n",
    "c = np.full((3,3),5.0)\n",
    "print(c)\n",
    "# identity\n",
    "d = np.eye(3) #3x3\n",
    "print(d)\n",
    "\n",
    "# arange\n",
    "e = np.arange(10)\n",
    "print(e)\n",
    "\n",
    "# linspace\n",
    "f = np.linspace(0, 10, 5)\n",
    "print(f)"
   ]
  },
  {
   "cell_type": "code",
   "execution_count": 39,
   "metadata": {},
   "outputs": [
    {
     "name": "stdout",
     "output_type": "stream",
     "text": [
      "[[0.42971511 0.38090965]\n",
      " [0.43641051 0.50243024]\n",
      " [0.69549556 0.29020936]]\n",
      "[[-0.71733135  1.94727998]\n",
      " [-0.26097936 -0.83916445]\n",
      " [-1.31852952 -1.20756027]]\n",
      "-0.0022885502461546096 1.0013415760606243 1.0006705632028077\n",
      "-0.013289779515164872\n",
      "[[8 5 8]\n",
      " [7 5 3]\n",
      " [6 4 7]]\n",
      "[3 1 6 4 2 6 3 2 4 4]\n",
      "[4 4 3 2 2 4 4 1]\n"
     ]
    }
   ],
   "source": [
    "# random numbers\n",
    "a = np.random.random((3,2)) # uniform 0-1 distribution\n",
    "print(a)\n",
    "b = np.random.randn(3,2) # normal/Gaussian distribution, mean 0 and unit variance\n",
    "# no tuple as shape here! each dimension one argument\n",
    "print(b)\n",
    "\n",
    "R = np.random.randn(10000)\n",
    "print(R.mean(), R.var(), R.std())\n",
    "\n",
    "R = np.random.randn(10, 3)\n",
    "print(R.mean()) # mean of whole array\n",
    "\n",
    "# random integer, low,high,size; high is exclusive\n",
    "R = np.random.randint(3,10,size=(3,3)) # if we only pass one parameter, then from 0-x\n",
    "print(R)\n",
    "\n",
    "# with integer is between 0 up to integer exclusive\n",
    "c = np.random.choice(7, size=10)\n",
    "print(c)\n",
    "# with an array it draws random values from this array\n",
    "d = np.random.choice([1,2,3,4], size=8)\n",
    "print(d)"
   ]
  },
  {
   "cell_type": "code",
   "execution_count": 40,
   "metadata": {},
   "outputs": [
    {
     "name": "stdout",
     "output_type": "stream",
     "text": [
      "[-0.37228132  5.37228132]\n",
      "[[-0.82456484 -0.41597356]\n",
      " [ 0.56576746 -0.90937671]]\n",
      "[-0.82456484  0.56576746]\n",
      "[ 0.30697009 -0.21062466] [ 0.30697009 -0.21062466]\n",
      "[ True False]\n",
      "True\n"
     ]
    }
   ],
   "source": [
    "# eigenvalues\n",
    "a = np.array([[1,2], [3,4]])\n",
    "eigenvalues, eigenvectors = np.linalg.eig(a)\n",
    "# Note: use eigh if your matrix is symmetric (faster)\n",
    "print(eigenvalues)\n",
    "print(eigenvectors) # column vectors\n",
    "print(eigenvectors[:,0]) # column 0 corresponding to eigenvalue[0]\n",
    "\n",
    "# verify: e-vec * e-val = A * e-vec\n",
    "d = eigenvectors[:,0] * eigenvalues[0]\n",
    "e = a @ eigenvectors[:, 0]\n",
    "print(d, e)\n",
    "print(d == e) # numerical issues\n",
    "\n",
    "# correct way to compare matrix\n",
    "print(np.allclose(d,e))"
   ]
  },
  {
   "cell_type": "code",
   "execution_count": 41,
   "metadata": {},
   "outputs": [
    {
     "name": "stdout",
     "output_type": "stream",
     "text": [
      "[1500.  700.]\n",
      "[1500.  700.]\n"
     ]
    }
   ],
   "source": [
    "# solve linear system\n",
    "# x1+x2=2200\n",
    "# 1.5 x1 + 4 x2 = 5050\n",
    "# 2 equations and 2 unknowns\n",
    "A = np.array([[1, 1], [1.5, 4]])\n",
    "b = np.array([2200,5050])\n",
    "\n",
    "# Ax = b <=> x = A-1 b\n",
    "\n",
    "# But: inverse is slow and less accurate\n",
    "x = np.linalg.inv(A).dot(b) # not recommended\n",
    "print(x)\n",
    "x = np.linalg.solve(A,b) # good\n",
    "print(x)"
   ]
  },
  {
   "cell_type": "code",
   "execution_count": null,
   "metadata": {},
   "outputs": [],
   "source": [
    "# loading from csv\n",
    "# https://www.python-engineer.com/videos/how-to-load-data/\n",
    "\n",
    "# 1) load with np.loadtxt()\n",
    "# skiprows=1\n",
    "data = np.loadtxt(FILE_NAME, delimiter=\",\",dtype=np.float32)\n",
    "print(data.shape, data.dtype)\n",
    "\n",
    "# 2) load with np.genfromtxt()\n",
    "# skip_header=0, missing_values=\"---\", filling_values=0.0\n",
    "data = np.genfromtxt(FILE_NAME, delimiter=\",\", dtype=np.float32)\n",
    "print(data.shape)"
   ]
  }
 ],
 "metadata": {
  "kernelspec": {
   "display_name": "ml",
   "language": "python",
   "name": "ml"
  },
  "language_info": {
   "codemirror_mode": {
    "name": "ipython",
    "version": 3
   },
   "file_extension": ".py",
   "mimetype": "text/x-python",
   "name": "python",
   "nbconvert_exporter": "python",
   "pygments_lexer": "ipython3",
   "version": "3.7.6"
  }
 },
 "nbformat": 4,
 "nbformat_minor": 4
}
