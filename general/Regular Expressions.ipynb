{
 "cells": [
  {
   "cell_type": "markdown",
   "metadata": {},
   "source": [
    "# Regular Expressions\n",
    "Regular expressions (REs, or regexes, or regex patterns) are a powerful language for matching text patterns. Possible pattern examples for searches are, e.g., E-mail addresses or domain names. This article gives a basic introduction to regular expressions and shows how regular expressions work in Python. It will cover all the necessary concepts:\n",
    "\n",
    "1) Methods to search for matches  \n",
    "2) Methods on a match object  \n",
    "3) Meta characters  \n",
    "4) More special sequences  \n",
    "5) Sets  \n",
    "6) Quantifier  \n",
    "7) Conditions  \n",
    "8) Grouping  \n",
    "9) Examples  \n",
    "10) Modification  \n",
    "11) Compilation flags  "
   ]
  },
  {
   "cell_type": "markdown",
   "metadata": {},
   "source": [
    "Regular expressions inside Python are made available through the re module:"
   ]
  },
  {
   "cell_type": "code",
   "execution_count": 5,
   "metadata": {},
   "outputs": [],
   "source": [
    "import re"
   ]
  },
  {
   "cell_type": "markdown",
   "metadata": {},
   "source": [
    "Using regexes, you specify the rules for the set of possible strings that you want to match.\n",
    "Typically we first define our pattern that we want to search for, and use `re.compile()` on it. By default, our pattern is case sensitive."
   ]
  },
  {
   "cell_type": "code",
   "execution_count": 6,
   "metadata": {},
   "outputs": [],
   "source": [
    "test_string = '123abc456789abc123ABC'\n",
    "pattern = re.compile(r'abc')"
   ]
  },
  {
   "cell_type": "markdown",
   "metadata": {},
   "source": [
    "Note: It is recommended to use raw strings for the search:"
   ]
  },
  {
   "cell_type": "code",
   "execution_count": 7,
   "metadata": {
    "scrolled": true
   },
   "outputs": [
    {
     "name": "stdout",
     "output_type": "stream",
     "text": [
      "\tHello\n",
      "\\tHello\n"
     ]
    }
   ],
   "source": [
    "## Use raw strings for the search pattern\n",
    "a = '\\tHello'\n",
    "b = r'\\tHello'\n",
    "print(a)\n",
    "print(b)"
   ]
  },
  {
   "cell_type": "markdown",
   "metadata": {},
   "source": [
    "### Performing matches with compiled objects\n",
    "Once we have our pattern, we can search for this pattern in the text / string that we want to look up. \n",
    "- match(): Determine if the RE matches at the beginning of the string.\n",
    "- search(): Scan through a string, looking for any location where this RE matches.\n",
    "- findall(): Find all substrings where the RE matches, and returns them as a list.\n",
    "- finditer(): Find all substrings where the RE matches, and returns them as an iterator.\n",
    "\n",
    "#### Modification methods\n",
    "We will cover these methods later:\n",
    "- split(): Returns a list where the string has been split at each match\n",
    "- sub(): Replaces one or many matches with a string  "
   ]
  },
  {
   "cell_type": "code",
   "execution_count": 8,
   "metadata": {},
   "outputs": [
    {
     "name": "stdout",
     "output_type": "stream",
     "text": [
      "<re.Match object; span=(0, 3), match='123'>\n",
      "(0, 3) 0 3\n",
      "123\n",
      "<re.Match object; span=(15, 18), match='123'>\n",
      "(15, 18) 15 18\n",
      "123\n",
      "\n",
      "123\n",
      "123\n",
      "\n",
      "None\n",
      "<re.Match object; span=(0, 3), match='abc'>\n",
      "\n",
      "<re.Match object; span=(0, 3), match='abc'>\n"
     ]
    }
   ],
   "source": [
    "# finditer()\n",
    "my_string = 'abc123ABC123abc'\n",
    "pattern = re.compile(r'123')\n",
    "matches = pattern.finditer(test_string)\n",
    "for match in matches:\n",
    "    print(match)\n",
    "    print(match.span(), match.start(), match.end())\n",
    "    print(match.group()) # returns the string\n",
    "\n",
    "print()\n",
    "# findall()\n",
    "pattern = re.compile(r'123')\n",
    "matches = pattern.findall(my_string)\n",
    "for match in matches:\n",
    "    print(match)\n",
    "\n",
    "print()\n",
    "# match\n",
    "match = pattern.match(my_string)\n",
    "print(match)\n",
    "pattern = re.compile(r'abc')\n",
    "match = pattern.match(my_string)\n",
    "print(match)\n",
    "\n",
    "print()\n",
    "# search\n",
    "match = pattern.search(my_string)\n",
    "print(match)"
   ]
  },
  {
   "cell_type": "markdown",
   "metadata": {},
   "source": [
    "Note: Methods can also be used directly on the `re` module. It does not make that much of a difference, but some people prefer explicitely precompiling and binding the pattern to a reusable variable. (See https://stackoverflow.com/questions/452104/is-it-worth-using-pythons-re-compile)"
   ]
  },
  {
   "cell_type": "code",
   "execution_count": 9,
   "metadata": {},
   "outputs": [
    {
     "name": "stdout",
     "output_type": "stream",
     "text": [
      "<re.Match object; span=(3, 6), match='abc'>\n",
      "<re.Match object; span=(12, 15), match='abc'>\n"
     ]
    }
   ],
   "source": [
    "matches = re.finditer(r'abc', test_string)\n",
    "for match in matches:\n",
    "    print(match)"
   ]
  },
  {
   "cell_type": "markdown",
   "metadata": {},
   "source": [
    "### Methods on a Match object\n",
    "- group(): Return the string matched by the RE\n",
    "- start(): Return the starting position of the match\n",
    "- end(): Return the ending position of the match\n",
    "- span(): Return a tuple containing the (start, end) positions of the match"
   ]
  },
  {
   "cell_type": "code",
   "execution_count": 10,
   "metadata": {},
   "outputs": [
    {
     "name": "stdout",
     "output_type": "stream",
     "text": [
      "<re.Match object; span=(3, 6), match='abc'>\n",
      "(3, 6) 3 6\n",
      "abc\n",
      "<re.Match object; span=(12, 15), match='abc'>\n",
      "(12, 15) 12 15\n",
      "abc\n"
     ]
    }
   ],
   "source": [
    "test_string = '123abc456789abc123ABC'\n",
    "pattern = re.compile(r'abc')\n",
    "matches = pattern.finditer(test_string)\n",
    "for match in matches:\n",
    "    print(match)\n",
    "    print(match.span(), match.start(), match.end())\n",
    "    print(match.group()) # returns the substring that was matched by the RE"
   ]
  },
  {
   "cell_type": "markdown",
   "metadata": {},
   "source": [
    "### Meta characters\n",
    "Metacharacters are characters with a special meaning:  \n",
    "All meta characters: **. ^ $ * + ? { } [ ] \\ | ( )**  \n",
    "Meta characters need need to be escaped (with \\) if we actually want to search for the char.\n",
    "\n",
    "- . Any character (except newline character) \"he..o\"\n",
    "- ^ Starts with\t\"^hello\"\n",
    "- \\\\$ Ends with \"world\\$\"\n",
    "- \\* Zero or more occurrences \"aix*\"\n",
    "- \\+ One or more occurrences \"aix+\"\n",
    "- { } Exactly the specified number of occurrences \"al{2}\"\n",
    "- [] A set of characters \"[a-m]\"\n",
    "- \\ Signals a special sequence (can also be used to escape special characters) \"\\d\"\n",
    "- | Either or \"falls|stays\"\n",
    "- ( ) Capture and group"
   ]
  },
  {
   "cell_type": "code",
   "execution_count": 11,
   "metadata": {},
   "outputs": [
    {
     "name": "stdout",
     "output_type": "stream",
     "text": [
      "<re.Match object; span=(15, 16), match='.'>\n"
     ]
    }
   ],
   "source": [
    "test_string = 'python-engineer.com'\n",
    "pattern = re.compile(r'\\.')\n",
    "matches = pattern.finditer(test_string)\n",
    "for match in matches:\n",
    "    print(match)"
   ]
  },
  {
   "cell_type": "markdown",
   "metadata": {},
   "source": [
    "### More Metacharacters / Special Sequences\n",
    "A special sequence is a \\ followed by one of the characters in the list below, and has a special meaning:\n",
    "\n",
    "- \\d :Matches any decimal digit; this is equivalent to the class [0-9].  \n",
    "- \\D : Matches any non-digit character; this is equivalent to the class [^0-9].  \n",
    "- \\s : Matches any whitespace character; this is equivalent to the class [ \\t\\n\\r\\f\\v].  \n",
    "- \\S : Matches any non-whitespace character; this is equivalent to the class [^ \\t\\n\\r\\f\\v].  \n",
    "- \\w : Matches any alphanumeric (word) character; this is equivalent to the class [a-zA-Z0-9_]. \n",
    "- \\W : Matches any non-alphanumeric character; this is equivalent to the class [^a-zA-Z0-9_]. \n",
    "- \\b\tReturns a match where the specified characters are at the beginning or at the end of a word\tr\"\\bain\"\n",
    "r\"ain\\b\"\t\n",
    "- \\B\tReturns a match where the specified characters are present, but NOT at the beginning (or at the end) of a word\tr\"\\Bain\"\n",
    "r\"ain\\B\"\n",
    "- \\A\tReturns a match if the specified characters are at the beginning of the string\t\"\\AThe\"\t\n",
    "- \\Z\tReturns a match if the specified characters are at the end of the string\t\"Spain\\Z\""
   ]
  },
  {
   "cell_type": "code",
   "execution_count": 12,
   "metadata": {},
   "outputs": [
    {
     "name": "stdout",
     "output_type": "stream",
     "text": [
      "<re.Match object; span=(6, 7), match='1'>\n",
      "<re.Match object; span=(7, 8), match='2'>\n",
      "<re.Match object; span=(8, 9), match='3'>\n",
      "\n",
      "<re.Match object; span=(5, 6), match=' '>\n",
      "<re.Match object; span=(10, 11), match=' '>\n",
      "<re.Match object; span=(16, 17), match=' '>\n",
      "\n",
      "<re.Match object; span=(0, 1), match='h'>\n",
      "<re.Match object; span=(1, 2), match='e'>\n",
      "<re.Match object; span=(2, 3), match='l'>\n",
      "<re.Match object; span=(3, 4), match='l'>\n",
      "<re.Match object; span=(4, 5), match='o'>\n",
      "<re.Match object; span=(6, 7), match='1'>\n",
      "<re.Match object; span=(7, 8), match='2'>\n",
      "<re.Match object; span=(8, 9), match='3'>\n",
      "<re.Match object; span=(9, 10), match='_'>\n",
      "<re.Match object; span=(11, 12), match='h'>\n",
      "<re.Match object; span=(12, 13), match='e'>\n",
      "<re.Match object; span=(13, 14), match='y'>\n",
      "<re.Match object; span=(14, 15), match='h'>\n",
      "<re.Match object; span=(15, 16), match='o'>\n",
      "<re.Match object; span=(17, 18), match='h'>\n",
      "<re.Match object; span=(18, 19), match='o'>\n",
      "<re.Match object; span=(19, 20), match='h'>\n",
      "<re.Match object; span=(20, 21), match='e'>\n",
      "<re.Match object; span=(21, 22), match='y'>\n",
      "\n",
      "<re.Match object; span=(0, 3), match='hey'>\n",
      "\n",
      "<re.Match object; span=(0, 5), match='hello'>\n",
      "\n"
     ]
    }
   ],
   "source": [
    "test_string = 'hello 123_ heyho hohey'\n",
    "pattern = re.compile(r'\\d')\n",
    "matches = pattern.finditer(test_string)\n",
    "for match in matches:\n",
    "    print(match)\n",
    "\n",
    "print()\n",
    "pattern = re.compile(r'\\s')\n",
    "matches = pattern.finditer(test_string)\n",
    "for match in matches:\n",
    "    print(match)\n",
    "    \n",
    "print()\n",
    "pattern = re.compile(r'\\w')\n",
    "matches = pattern.finditer(test_string)\n",
    "for match in matches:\n",
    "    print(match)\n",
    "    \n",
    "print()\n",
    "pattern = re.compile(r'\\bhey')\n",
    "matches = pattern.finditer('heyho hohey') # ho-hey, ho\\nhey are matches!\n",
    "for match in matches:\n",
    "    print(match)\n",
    "    \n",
    "print()\n",
    "pattern = re.compile(r'\\Ahello')\n",
    "matches = pattern.finditer(test_string)\n",
    "for match in matches:\n",
    "    print(match)\n",
    "    \n",
    "print()\n",
    "pattern = re.compile(r'123_\\Z')\n",
    "matches = pattern.finditer(test_string)\n",
    "for match in matches:\n",
    "    print(match)"
   ]
  },
  {
   "cell_type": "markdown",
   "metadata": {},
   "source": [
    "### Sets\n",
    "A set is a set of characters inside a pair of square brackets [] with a special meaning. \n",
    "Append multiple conditions back-to back, e.g. [aA-Z].  \n",
    "A ^ (caret) inside a set negates the expression.  \n",
    "A - (dash) in a set specifies a range if it is in between, otherwise the dash itself.\n",
    "\n",
    "Examples:  \n",
    "- [arn]\tReturns a match where one of the specified characters (a, r, or n) are present\t\n",
    "- [a-n]\tReturns a match for any lower case character, alphabetically between a and n\t\n",
    "- [^arn]\tReturns a match for any character EXCEPT a, r, and n\t\n",
    "- [0123]\tReturns a match where any of the specified digits (0, 1, 2, or 3) are present\t\n",
    "- [0-9]\tReturns a match for any digit between 0 and 9\t\n",
    "- [0-5][0-9]\tReturns a match for any two-digit numbers from 00 and 59\t\n",
    "- [a-zA-Z]\tReturns a match for any character alphabetically between a and z, lower case OR upper case"
   ]
  },
  {
   "cell_type": "code",
   "execution_count": 13,
   "metadata": {},
   "outputs": [
    {
     "name": "stdout",
     "output_type": "stream",
     "text": [
      "<re.Match object; span=(0, 1), match='h'>\n",
      "<re.Match object; span=(1, 2), match='e'>\n",
      "<re.Match object; span=(2, 3), match='l'>\n",
      "<re.Match object; span=(3, 4), match='l'>\n",
      "<re.Match object; span=(4, 5), match='o'>\n"
     ]
    }
   ],
   "source": [
    "test_string = 'hello 123_'\n",
    "pattern = re.compile(r'[a-z]')\n",
    "matches = pattern.finditer(test_string)\n",
    "for match in matches:\n",
    "    print(match)"
   ]
  },
  {
   "cell_type": "code",
   "execution_count": 14,
   "metadata": {},
   "outputs": [
    {
     "name": "stdout",
     "output_type": "stream",
     "text": [
      "all dates with a character in between\n",
      "<re.Match object; span=(13, 23), match='2020.04.01'>\n",
      "<re.Match object; span=(25, 35), match='2020-04-01'>\n",
      "<re.Match object; span=(36, 46), match='2020-05-23'>\n",
      "<re.Match object; span=(47, 57), match='2020-06-11'>\n",
      "<re.Match object; span=(58, 68), match='2020-07-11'>\n",
      "<re.Match object; span=(69, 79), match='2020-08-11'>\n",
      "<re.Match object; span=(81, 91), match='2020/04/02'>\n",
      "<re.Match object; span=(93, 103), match='2020_04_04'>\n",
      "<re.Match object; span=(104, 114), match='2020_04_04'>\n",
      "\n",
      "only dates with - or . in between\n",
      "<re.Match object; span=(13, 23), match='2020.04.01'>\n",
      "<re.Match object; span=(25, 35), match='2020-04-01'>\n",
      "<re.Match object; span=(36, 46), match='2020-05-23'>\n",
      "<re.Match object; span=(47, 57), match='2020-06-11'>\n",
      "<re.Match object; span=(58, 68), match='2020-07-11'>\n",
      "<re.Match object; span=(69, 79), match='2020-08-11'>\n",
      "\n",
      "only dates with - or . in between in May or June\n",
      "<re.Match object; span=(36, 46), match='2020-05-23'>\n",
      "<re.Match object; span=(47, 57), match='2020-06-11'>\n",
      "\n",
      "only dates with - or . in between in May, June, July\n",
      "<re.Match object; span=(36, 46), match='2020-05-23'>\n",
      "<re.Match object; span=(47, 57), match='2020-06-11'>\n",
      "<re.Match object; span=(58, 68), match='2020-07-11'>\n"
     ]
    }
   ],
   "source": [
    "dates = '''\n",
    "01.04.2020\n",
    "\n",
    "2020.04.01\n",
    "\n",
    "2020-04-01\n",
    "2020-05-23\n",
    "2020-06-11\n",
    "2020-07-11\n",
    "2020-08-11\n",
    "\n",
    "2020/04/02\n",
    "\n",
    "2020_04_04\n",
    "2020_04_04\n",
    "'''\n",
    "\n",
    "print('all dates with a character in between')\n",
    "pattern = re.compile(r'\\d\\d\\d\\d.\\d\\d.\\d\\d')\n",
    "matches = pattern.finditer(dates)\n",
    "for match in matches:\n",
    "    print(match)\n",
    "print()\n",
    "\n",
    "print('only dates with - or . in between')\n",
    "pattern = re.compile(r'\\d\\d\\d\\d[-.]\\d\\d[-.]\\d\\d') #  no escape for the . here in the set\n",
    "matches = pattern.finditer(dates)\n",
    "for match in matches:\n",
    "    print(match)\n",
    "\n",
    "print()\n",
    "print('only dates with - or . in between in May or June')\n",
    "pattern = re.compile(r'\\d\\d\\d\\d[-.]0[56][-.]\\d\\d')\n",
    "matches = pattern.finditer(dates)\n",
    "for match in matches:\n",
    "    print(match)\n",
    "    \n",
    "# a dash in a character set specifies a range if it is in between, otherwise the dash itself\n",
    "print()\n",
    "print('only dates with - or . in between in May, June, July')\n",
    "pattern = re.compile(r'\\d\\d\\d\\d[-.]0[5-7][-.]\\d\\d') #  no escape for the . here in the set\n",
    "matches = pattern.finditer(dates)\n",
    "for match in matches:\n",
    "    print(match)"
   ]
  },
  {
   "cell_type": "markdown",
   "metadata": {},
   "source": [
    "### Quantifier\n",
    "- \\* : 0 or more\n",
    "- \\+ : 1 or more\n",
    "- ? : 0 or 1, used when a character can be optional\n",
    "- {4} : exact number\n",
    "- {4,6} : range numbers (min, max)"
   ]
  },
  {
   "cell_type": "code",
   "execution_count": 15,
   "metadata": {},
   "outputs": [
    {
     "name": "stdout",
     "output_type": "stream",
     "text": [
      "<re.Match object; span=(0, 0), match=''>\n",
      "<re.Match object; span=(1, 1), match=''>\n",
      "<re.Match object; span=(2, 2), match=''>\n",
      "<re.Match object; span=(3, 3), match=''>\n",
      "<re.Match object; span=(4, 4), match=''>\n",
      "<re.Match object; span=(5, 5), match=''>\n",
      "<re.Match object; span=(6, 9), match='123'>\n",
      "<re.Match object; span=(9, 9), match=''>\n",
      "\n",
      "<re.Match object; span=(6, 9), match='123'>\n",
      "\n",
      "<re.Match object; span=(5, 7), match='_1'>\n",
      "<re.Match object; span=(7, 9), match='_2'>\n",
      "<re.Match object; span=(10, 11), match='3'>\n",
      "\n",
      "<re.Match object; span=(0, 4), match='2020'>\n"
     ]
    }
   ],
   "source": [
    "my_string = 'hello_123'\n",
    "pattern = re.compile(r'\\d*')\n",
    "matches = pattern.finditer(my_string)\n",
    "for match in matches:\n",
    "    print(match)\n",
    "\n",
    "print()\n",
    "pattern = re.compile(r'\\d+')\n",
    "matches = pattern.finditer(my_string)\n",
    "for match in matches:\n",
    "    print(match)\n",
    "    \n",
    "print()\n",
    "my_string = 'hello_1_2-3'\n",
    "pattern = re.compile(r'_?\\d')\n",
    "matches = pattern.finditer(my_string)\n",
    "for match in matches:\n",
    "    print(match)\n",
    "    \n",
    "print()\n",
    "my_string = '2020-04-01'\n",
    "pattern = re.compile(r'\\d{4}') # or if you need a range r'\\d{3,5}'\n",
    "matches = pattern.finditer(my_string)\n",
    "for match in matches:\n",
    "    print(match)"
   ]
  },
  {
   "cell_type": "code",
   "execution_count": 16,
   "metadata": {},
   "outputs": [
    {
     "name": "stdout",
     "output_type": "stream",
     "text": [
      "<re.Match object; span=(1, 11), match='2020.04.01'>\n",
      "<re.Match object; span=(13, 23), match='2020-04-01'>\n",
      "<re.Match object; span=(24, 34), match='2020-05-23'>\n",
      "<re.Match object; span=(35, 45), match='2020-06-11'>\n",
      "<re.Match object; span=(46, 56), match='2020-07-11'>\n",
      "<re.Match object; span=(57, 67), match='2020-08-11'>\n",
      "<re.Match object; span=(69, 79), match='2020/04/02'>\n",
      "<re.Match object; span=(81, 91), match='2020_04_04'>\n",
      "<re.Match object; span=(92, 102), match='2020_04_04'>\n",
      "\n",
      "<re.Match object; span=(1, 11), match='2020.04.01'>\n",
      "<re.Match object; span=(13, 23), match='2020-04-01'>\n",
      "<re.Match object; span=(24, 34), match='2020-05-23'>\n",
      "<re.Match object; span=(35, 45), match='2020-06-11'>\n",
      "<re.Match object; span=(46, 56), match='2020-07-11'>\n",
      "<re.Match object; span=(57, 67), match='2020-08-11'>\n",
      "<re.Match object; span=(69, 79), match='2020/04/02'>\n",
      "<re.Match object; span=(81, 91), match='2020_04_04'>\n",
      "<re.Match object; span=(92, 102), match='2020_04_04'>\n"
     ]
    }
   ],
   "source": [
    "dates = '''\n",
    "2020.04.01\n",
    "\n",
    "2020-04-01\n",
    "2020-05-23\n",
    "2020-06-11\n",
    "2020-07-11\n",
    "2020-08-11\n",
    "\n",
    "2020/04/02\n",
    "\n",
    "2020_04_04\n",
    "2020_04_04\n",
    "'''\n",
    "pattern = re.compile(r'\\d{4}.\\d{2}.\\d{2}')\n",
    "matches = pattern.finditer(dates)\n",
    "for match in matches:\n",
    "    print(match)\n",
    "print()\n",
    "\n",
    "pattern = re.compile(r'\\d+.\\d+.\\d+')\n",
    "matches = pattern.finditer(dates)\n",
    "for match in matches:\n",
    "    print(match)"
   ]
  },
  {
   "cell_type": "markdown",
   "metadata": {},
   "source": [
    "### Conditions\n",
    "Use the | for either or condition."
   ]
  },
  {
   "cell_type": "code",
   "execution_count": 17,
   "metadata": {},
   "outputs": [
    {
     "name": "stdout",
     "output_type": "stream",
     "text": [
      "<re.Match object; span=(1, 11), match='Mr Simpson'>\n",
      "<re.Match object; span=(24, 33), match='Mr. Brown'>\n",
      "<re.Match object; span=(43, 48), match='Mr. T'>\n",
      "\n",
      "<re.Match object; span=(1, 11), match='Mr Simpson'>\n",
      "<re.Match object; span=(12, 23), match='Mrs Simpson'>\n",
      "<re.Match object; span=(24, 33), match='Mr. Brown'>\n",
      "<re.Match object; span=(34, 42), match='Ms Smith'>\n",
      "<re.Match object; span=(43, 48), match='Mr. T'>\n"
     ]
    }
   ],
   "source": [
    "my_string = \"\"\"\n",
    "Mr Simpson\n",
    "Mrs Simpson\n",
    "Mr. Brown\n",
    "Ms Smith\n",
    "Mr. T\n",
    "\"\"\"\n",
    "pattern = re.compile(r'Mr\\.?\\s\\w+')\n",
    "matches = pattern.finditer(my_string)\n",
    "for match in matches:\n",
    "    print(match)\n",
    "\n",
    "print()\n",
    "pattern = re.compile(r'(Mr|Ms|Mrs)\\.?\\s\\w+')\n",
    "matches = pattern.finditer(my_string)\n",
    "for match in matches:\n",
    "    print(match)"
   ]
  },
  {
   "cell_type": "markdown",
   "metadata": {},
   "source": [
    "### Grouping\n",
    "( ) is used to group substrings in the matches."
   ]
  },
  {
   "cell_type": "code",
   "execution_count": 18,
   "metadata": {},
   "outputs": [
    {
     "name": "stdout",
     "output_type": "stream",
     "text": [
      "<re.Match object; span=(1, 25), match='pythonengineer@gmail.com'>\n",
      "pythonengineer@gmail.com\n",
      "pythonengineer\n",
      "gmail\n",
      "com\n",
      "<re.Match object; span=(26, 48), match='Python-engineer@gmx.de'>\n",
      "Python-engineer@gmx.de\n",
      "Python-engineer\n",
      "gmx\n",
      "de\n",
      "<re.Match object; span=(49, 81), match='python-engineer123@my-domain.org'>\n",
      "python-engineer123@my-domain.org\n",
      "python-engineer123\n",
      "my-domain\n",
      "org\n"
     ]
    }
   ],
   "source": [
    "emails = \"\"\"\n",
    "pythonengineer@gmail.com\n",
    "Python-engineer@gmx.de\n",
    "python-engineer123@my-domain.org\n",
    "\"\"\"\n",
    "pattern = re.compile('[a-zA-Z1-9-]+@[a-zA-Z-]+\\.[a-zA-Z]+')\n",
    "pattern = re.compile('[a-zA-Z1-9-]+@[a-zA-Z-]+\\.(com|de)')\n",
    "pattern = re.compile('([a-zA-Z1-9-]+)@([a-zA-Z-]+)\\.([a-zA-Z]+)')\n",
    "matches = pattern.finditer(emails)\n",
    "for match in matches:\n",
    "    print(match)\n",
    "    print(match.group(0))\n",
    "    print(match.group(1))\n",
    "    print(match.group(2))\n",
    "    print(match.group(3))"
   ]
  },
  {
   "cell_type": "markdown",
   "metadata": {},
   "source": [
    "### Modifying strings\n",
    "- split(): Split the string into a list, splitting it wherever the RE matches\n",
    "- sub(): Find all substrings where the RE matches, and replace them with a different string"
   ]
  },
  {
   "cell_type": "code",
   "execution_count": 19,
   "metadata": {},
   "outputs": [
    {
     "name": "stdout",
     "output_type": "stream",
     "text": [
      "['abc', 'ABCDEF', 'abc']\n",
      "hello planet, you are the best planet\n"
     ]
    }
   ],
   "source": [
    "my_string = 'abc123ABCDEF123abc'\n",
    "pattern = re.compile(r'123') #  no escape for the . here in the set\n",
    "matches = pattern.split(my_string)\n",
    "print(matches)\n",
    "\n",
    "my_string = \"hello world, you are the best world\"\n",
    "pattern = re.compile(r'world')\n",
    "subbed_string = pattern.sub(r'planet', my_string)\n",
    "print(subbed_string)"
   ]
  },
  {
   "cell_type": "code",
   "execution_count": 20,
   "metadata": {},
   "outputs": [
    {
     "name": "stdout",
     "output_type": "stream",
     "text": [
      "http://python-engineer.com\n",
      ".com\n",
      "https://www.python-engineer.org\n",
      ".org\n",
      "http://www.pyeng.net\n",
      ".net\n",
      "\n",
      "python-engineer.com\n",
      "python-engineer.org\n",
      "pyeng.net\n",
      "\n"
     ]
    }
   ],
   "source": [
    "urls = \"\"\"\n",
    "http://python-engineer.com\n",
    "https://www.python-engineer.org\n",
    "http://www.pyeng.net\n",
    "\"\"\"\n",
    "pattern = re.compile(r'https?://(www\\.)?(\\w|-)+\\.\\w+')\n",
    "pattern = re.compile(r'https?://(www\\.)?([a-zA-Z-]+)(\\.\\w+)')\n",
    "matches = pattern.finditer(urls)\n",
    "for match in matches:\n",
    "    #print(match)\n",
    "    print(match.group()) # 0\n",
    "    #print(match.group(1))\n",
    "    #print(match.group(2))\n",
    "    print(match.group(3))\n",
    "    \n",
    "# substitute using back references to replace url + domain name\n",
    "subbed_urls = pattern.sub(r'\\2\\3', urls)\n",
    "print(subbed_urls)"
   ]
  },
  {
   "cell_type": "markdown",
   "metadata": {},
   "source": [
    "### Compilation Flags\n",
    "ASCII, A : Makes several escapes like \\w, \\b, \\s and \\d match only on ASCII characters with the respective property.  \n",
    "DOTALL, S : Make . match any character, including newlines.  \n",
    "IGNORECASE, I : Do case-insensitive matches.  \n",
    "LOCALE, L : Do a locale-aware match.  \n",
    "MULTILINE, M : Multi-line matching, affecting ^ and $.  \n",
    "VERBOSE, X (for ‘extended’) : Enable verbose REs, which can be organized more cleanly and understandably.  "
   ]
  },
  {
   "cell_type": "code",
   "execution_count": 21,
   "metadata": {},
   "outputs": [
    {
     "name": "stdout",
     "output_type": "stream",
     "text": [
      "<re.Match object; span=(6, 11), match='World'>\n",
      "<re.Match object; span=(1, 2), match='h'>\n",
      "<re.Match object; span=(7, 8), match='c'>\n"
     ]
    }
   ],
   "source": [
    "my_string = \"Hello World\"\n",
    "pattern = re.compile(r'world', re.IGNORECASE) # No match without I flag\n",
    "matches = pattern.finditer(my_string)\n",
    "for match in matches:\n",
    "    print(match)\n",
    "\n",
    "my_string = '''\n",
    "hello\n",
    "cool\n",
    "Hello\n",
    "'''\n",
    "# line starts with ...\n",
    "pattern = re.compile(r'^[a-z]', re.MULTILINE) # No match without M flag\n",
    "matches = pattern.finditer(my_string)\n",
    "for match in matches:\n",
    "    print(match)"
   ]
  },
  {
   "cell_type": "markdown",
   "metadata": {},
   "source": [
    "### Further readings\n",
    "- https://docs.python.org/3/howto/regex.html\n",
    "- https://docs.python.org/3/library/re.html\n",
    "- https://developers.google.com/edu/python/regular-expressions"
   ]
  }
 ],
 "metadata": {
  "kernelspec": {
   "display_name": "Python (pyeng_env)",
   "language": "python",
   "name": "pyeng_env"
  },
  "language_info": {
   "codemirror_mode": {
    "name": "ipython",
    "version": 3
   },
   "file_extension": ".py",
   "mimetype": "text/x-python",
   "name": "python",
   "nbconvert_exporter": "python",
   "pygments_lexer": "ipython3",
   "version": "3.7.6"
  }
 },
 "nbformat": 4,
 "nbformat_minor": 4
}
