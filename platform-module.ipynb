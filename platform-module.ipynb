{
 "cells": [
  {
   "cell_type": "markdown",
   "metadata": {},
   "source": [
    "**Platform Modules**\n",
    "\n",
    "* Modules are files contains python definitions and statements \n",
    "* Python has build in modules, such as dir, random and platform \n",
    "* We can tell python from which order to import packages\n",
    "* PIP to install pacakges\n",
    "* platform module to Know OS, Hardware and Python Interpreter"
   ]
  },
  {
   "cell_type": "code",
   "execution_count": 41,
   "metadata": {},
   "outputs": [
    {
     "name": "stdout",
     "output_type": "stream",
     "text": [
      "version: Darwin Kernel Version 21.1.0: Wed Oct 13 17:33:23 PDT 2021; root:xnu-8019.41.5~1/RELEASE_X86_64\n",
      "Platform processor: i386\n",
      "Platform architecture: ('64bit', '')\n",
      "Machine type: x86_64\n",
      "Systems network name: gvr\n",
      "Platform information: macOS-12.0.1-x86_64-i386-64bit\n",
      "Operating system: Darwin\n",
      "Python build no. and date: ('default', 'Aug  3 2021 19:21:54')\n",
      "Python compiler: Clang 13.0.0 (clang-1300.0.29.3)\n",
      "Python implementation: CPython\n",
      "Python version: 3.8.9\n"
     ]
    }
   ],
   "source": [
    "# know which OS (Operating System) you are on:\n",
    "\n",
    "import platform\n",
    "print('version:', platform.version())\n",
    "print('Platform processor:', platform.processor())\n",
    "print('Platform architecture:', platform.architecture())\n",
    "print('Machine type:', platform.machine())\n",
    "print('Systems network name:', platform.node())\n",
    "print('Platform information:', platform.platform())\n",
    "print('Operating system:', platform.system())\n",
    "print('Python build no. and date:', platform.python_build())\n",
    "print('Python compiler:', platform.python_compiler())\n",
    "print('Python implementation:', platform.python_implementation())\n",
    "print('Python version:', platform.python_version())\n"
   ]
  },
  {
   "cell_type": "code",
   "execution_count": 42,
   "metadata": {},
   "outputs": [
    {
     "name": "stdout",
     "output_type": "stream",
     "text": [
      "3 8 9 "
     ]
    }
   ],
   "source": [
    "#get python version from tuple \n",
    "from platform import python_version_tuple\n",
    "\n",
    "for ver in python_version_tuple():\n",
    "    print(ver, end=\" \")"
   ]
  },
  {
   "cell_type": "code",
   "execution_count": 3,
   "metadata": {},
   "outputs": [
    {
     "name": "stdout",
     "output_type": "stream",
     "text": [
      "Package           Version\n",
      "----------------- -------\n",
      "ansible           2.9.11\n",
      "appnope           0.1.0\n",
      "astroid           2.4.0\n",
      "autopep8          1.5.2\n",
      "backcall          0.2.0\n",
      "cffi              1.14.1\n",
      "cryptography      3.0\n",
      "decorator         4.4.2\n",
      "ipykernel         5.3.4\n",
      "ipython           7.18.1\n",
      "ipython-genutils  0.2.0\n",
      "isort             4.3.21\n",
      "jedi              0.17.2\n",
      "Jinja2            2.11.2\n",
      "jupyter-client    6.1.7\n",
      "jupyter-core      4.6.3\n",
      "lazy-object-proxy 1.4.3\n",
      "MarkupSafe        1.1.1\n",
      "mccabe            0.6.1\n",
      "mypy              0.770\n",
      "mypy-extensions   0.4.3\n",
      "parso             0.7.1\n",
      "pexpect           4.8.0\n",
      "pickleshare       0.7.5\n",
      "pip               20.2.3\n",
      "prompt-toolkit    3.0.7\n",
      "ptyprocess        0.6.0\n",
      "pycodestyle       2.5.0\n",
      "pycparser         2.20\n",
      "Pygments          2.7.1\n",
      "pylint            2.5.0\n",
      "python-dateutil   2.8.1\n",
      "PyYAML            5.3.1\n",
      "pyzmq             19.0.2\n",
      "setuptools        49.2.1\n",
      "six               1.14.0\n",
      "toml              0.10.0\n",
      "tornado           6.0.4\n",
      "traitlets         5.0.4\n",
      "typed-ast         1.4.1\n",
      "typing-extensions 3.7.4.2\n",
      "wcwidth           0.2.5\n",
      "wheel             0.33.1\n",
      "wrapt             1.12.1\n",
      "\u001b[33mWARNING: You are using pip version 20.2.3; however, version 21.3.1 is available.\n",
      "You should consider upgrading via the '/Library/Developer/CommandLineTools/usr/bin/python3 -m pip install --upgrade pip' command.\u001b[0m\n",
      "Note: you may need to restart the kernel to use updated packages.\n"
     ]
    }
   ],
   "source": [
    "pip list"
   ]
  }
 ],
 "metadata": {
  "interpreter": {
   "hash": "31f2aee4e71d21fbe5cf8b01ff0e069b9275f58929596ceb00d14d90e3e16cd6"
  },
  "kernelspec": {
   "display_name": "Python 3.8.9 64-bit",
   "language": "python",
   "name": "python3"
  },
  "language_info": {
   "codemirror_mode": {
    "name": "ipython",
    "version": 3
   },
   "file_extension": ".py",
   "mimetype": "text/x-python",
   "name": "python",
   "nbconvert_exporter": "python",
   "pygments_lexer": "ipython3",
   "version": "3.8.9"
  },
  "orig_nbformat": 4
 },
 "nbformat": 4,
 "nbformat_minor": 2
}
